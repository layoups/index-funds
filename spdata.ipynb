{
 "cells": [
  {
   "cell_type": "code",
   "source": "pip install -r requirements.txt",
   "metadata": {
    "tags": [],
    "cell_id": "00000-5f69ae54-b404-4ea4-aad9-f1caba72852f",
    "deepnote_to_be_reexecuted": false,
    "source_hash": "2f59421c",
    "execution_start": 1637552025515,
    "execution_millis": 24236,
    "deepnote_cell_type": "code"
   },
   "outputs": [
    {
     "name": "stdout",
     "text": "Collecting statsmodels\n  Downloading statsmodels-0.13.1-cp37-cp37m-manylinux_2_17_x86_64.manylinux2014_x86_64.whl (9.8 MB)\n\u001b[K     |████████████████████████████████| 9.8 MB 6.9 MB/s \n\u001b[?25hCollecting gurobipy\n  Downloading gurobipy-9.5.0-cp37-cp37m-manylinux2014_x86_64.whl (11.5 MB)\n\u001b[K     |████████████████████████████████| 11.5 MB 36.0 MB/s \n\u001b[?25hRequirement already satisfied: pandas_datareader in /root/venv/lib/python3.7/site-packages (from -r requirements.txt (line 3)) (0.10.0)\nRequirement already satisfied: mplfinance in /root/venv/lib/python3.7/site-packages (from -r requirements.txt (line 4)) (0.12.7a17)\nRequirement already satisfied: scipy>=1.3 in /shared-libs/python3.7/py/lib/python3.7/site-packages (from statsmodels->-r requirements.txt (line 1)) (1.7.2)\nRequirement already satisfied: numpy>=1.17 in /shared-libs/python3.7/py/lib/python3.7/site-packages (from statsmodels->-r requirements.txt (line 1)) (1.19.5)\nRequirement already satisfied: pandas>=0.25 in /shared-libs/python3.7/py/lib/python3.7/site-packages (from statsmodels->-r requirements.txt (line 1)) (1.2.5)\nCollecting patsy>=0.5.2\n  Downloading patsy-0.5.2-py2.py3-none-any.whl (233 kB)\n\u001b[K     |████████████████████████████████| 233 kB 10.0 MB/s \n\u001b[?25hRequirement already satisfied: lxml in /shared-libs/python3.7/py/lib/python3.7/site-packages (from pandas_datareader->-r requirements.txt (line 3)) (4.6.4)\nRequirement already satisfied: requests>=2.19.0 in /shared-libs/python3.7/py/lib/python3.7/site-packages (from pandas_datareader->-r requirements.txt (line 3)) (2.26.0)\nRequirement already satisfied: matplotlib in /shared-libs/python3.7/py/lib/python3.7/site-packages (from mplfinance->-r requirements.txt (line 4)) (3.4.3)\nRequirement already satisfied: python-dateutil>=2.7.3 in /shared-libs/python3.7/py-core/lib/python3.7/site-packages (from pandas>=0.25->statsmodels->-r requirements.txt (line 1)) (2.8.2)\nRequirement already satisfied: pytz>=2017.3 in /shared-libs/python3.7/py/lib/python3.7/site-packages (from pandas>=0.25->statsmodels->-r requirements.txt (line 1)) (2021.3)\nRequirement already satisfied: six in /shared-libs/python3.7/py-core/lib/python3.7/site-packages (from patsy>=0.5.2->statsmodels->-r requirements.txt (line 1)) (1.16.0)\nRequirement already satisfied: idna<4,>=2.5; python_version >= \"3\" in /shared-libs/python3.7/py-core/lib/python3.7/site-packages (from requests>=2.19.0->pandas_datareader->-r requirements.txt (line 3)) (3.3)\nRequirement already satisfied: urllib3<1.27,>=1.21.1 in /shared-libs/python3.7/py/lib/python3.7/site-packages (from requests>=2.19.0->pandas_datareader->-r requirements.txt (line 3)) (1.26.7)\nRequirement already satisfied: certifi>=2017.4.17 in /shared-libs/python3.7/py/lib/python3.7/site-packages (from requests>=2.19.0->pandas_datareader->-r requirements.txt (line 3)) (2021.10.8)\nRequirement already satisfied: charset-normalizer~=2.0.0; python_version >= \"3\" in /shared-libs/python3.7/py-core/lib/python3.7/site-packages (from requests>=2.19.0->pandas_datareader->-r requirements.txt (line 3)) (2.0.7)\nRequirement already satisfied: cycler>=0.10 in /shared-libs/python3.7/py/lib/python3.7/site-packages (from matplotlib->mplfinance->-r requirements.txt (line 4)) (0.11.0)\nRequirement already satisfied: pyparsing>=2.2.1 in /shared-libs/python3.7/py-core/lib/python3.7/site-packages (from matplotlib->mplfinance->-r requirements.txt (line 4)) (2.4.7)\nRequirement already satisfied: pillow>=6.2.0 in /shared-libs/python3.7/py/lib/python3.7/site-packages (from matplotlib->mplfinance->-r requirements.txt (line 4)) (8.4.0)\nRequirement already satisfied: kiwisolver>=1.0.1 in /shared-libs/python3.7/py/lib/python3.7/site-packages (from matplotlib->mplfinance->-r requirements.txt (line 4)) (1.3.2)\nInstalling collected packages: patsy, statsmodels, gurobipy\nSuccessfully installed gurobipy-9.5.0 patsy-0.5.2 statsmodels-0.13.1\n\u001b[33mWARNING: You are using pip version 20.1.1; however, version 21.3.1 is available.\nYou should consider upgrading via the '/usr/local/bin/python -m pip install --upgrade pip' command.\u001b[0m\nNote: you may need to restart the kernel to use updated packages.\n",
     "output_type": "stream"
    }
   ],
   "execution_count": null
  },
  {
   "cell_type": "code",
   "metadata": {
    "tags": [],
    "cell_id": "00000-c90d78b3-0772-420c-b57d-87114fc0fd24",
    "deepnote_to_be_reexecuted": false,
    "source_hash": "13d3e6e2",
    "execution_start": 1637552049811,
    "execution_millis": 435,
    "deepnote_cell_type": "code"
   },
   "source": "import datetime as dt\nimport matplotlib.pyplot as plt\nfrom matplotlib import style\nimport pandas as pd\nimport pandas_datareader as pdr\nimport matplotlib.dates as mdates\nimport mplfinance as mpf\nimport bs4 as bs\nimport pickle\nimport requests\nimport os",
   "outputs": [],
   "execution_count": null
  },
  {
   "cell_type": "code",
   "source": "def save_sp_tickers():\n    resp = requests.get('https://en.wikipedia.org/wiki/S%26P_100')\n    soup = bs.BeautifulSoup(resp.text)\n    table = soup.find('table', {'id': 'constituents'})\n    tickers = []\n    for row in table.findAll('tr')[1:]:\n        ticker = row.find('td').text.replace('\\n','')\n        if '.' in ticker:\n            ticker = ticker.replace('.','-')\n        tickers.append(ticker)\n    \n    with open(\"sptickers.pickel\",\"wb\") as f:\n        pickle.dump(tickers, f)\n\n    # df = pd.DataFrame(tickers, columns=[\"ticker\"])\n    # df.to_csv('sp100_tickers.csv', index=False)\n    \n    return tickers",
   "metadata": {
    "tags": [],
    "cell_id": "00001-65f22750-6d3f-42d5-be37-3efe58628f7a",
    "deepnote_to_be_reexecuted": false,
    "source_hash": "3b063cf",
    "execution_start": 1637552227298,
    "execution_millis": 3,
    "deepnote_cell_type": "code"
   },
   "outputs": [],
   "execution_count": null
  },
  {
   "cell_type": "code",
   "source": "def get_data_from_yahoo(reload_sp=False):\n    if reload_sp:\n        tickers = save_sp_tickers()\n    else:\n        with open(\"sptickers.pickel\", \"rb\") as f:\n            tickers = pickle.load(f)\n    if not os.path.exists('stock_dfs'):\n        os.makedirs('stock_dfs')\n\n    start = dt.datetime(2019,1,1)\n    end = dt.datetime(2021,11,1)\n    \n    for ticker in tickers:\n        print(ticker)\n        if not os.path.exists('stock_dfs/{}.csv'.format(ticker)):\n            df = pdr.DataReader(ticker, 'yahoo', start, end)\n            df.to_csv('stock_dfs/{}.csv'.format(ticker))\n        else:\n            print('Already have {}'.format(ticker))",
   "metadata": {
    "tags": [],
    "cell_id": "00002-1071ee79-a77d-46d2-b87f-d2c3822cdaca",
    "deepnote_to_be_reexecuted": false,
    "source_hash": "60770228",
    "execution_start": 1637552356271,
    "execution_millis": 1,
    "deepnote_cell_type": "code"
   },
   "outputs": [],
   "execution_count": null
  },
  {
   "cell_type": "code",
   "source": "# _ = save_sp_tickers()\nget_data_from_yahoo()",
   "metadata": {
    "tags": [],
    "cell_id": "00003-434bd2be-587d-4479-bb9d-af4126d1de30",
    "deepnote_to_be_reexecuted": false,
    "source_hash": "220df0f2",
    "execution_start": 1637552364646,
    "execution_millis": 77527,
    "deepnote_output_heights": [
     611
    ],
    "deepnote_cell_type": "code"
   },
   "outputs": [
    {
     "name": "stdout",
     "text": "AAPL\nABBV\nABT\nACN\nADBE\nAIG\nAMGN\nAMT\nAMZN\nAVGO\nAXP\nBA\nBAC\nBIIB\nBK\nBKNG\nBLK\nBMY\nBRK-B\nC\nCAT\nCHTR\nCL\nCMCSA\nCOF\nCOP\nCOST\nCRM\nCSCO\nCVS\nCVX\nDD\nDHR\nDIS\nDOW\nDUK\nEMR\nEXC\nF\nFB\nFDX\nGD\nGE\nGILD\nGM\nGOOG\nGOOGL\nGS\nHD\nHON\nIBM\nINTC\nJNJ\nJPM\nKHC\nKO\nLIN\nLLY\nLMT\nLOW\nMA\nMCD\nMDLZ\nMDT\nMET\nMMM\nMO\nMRK\nMS\nMSFT\nNEE\nNFLX\nNKE\nNVDA\nORCL\nPEP\nPFE\nPG\nPM\nPYPL\nQCOM\nRTX\nSBUX\nSO\nSPG\nT\nTGT\nTMO\nTMUS\nTSLA\nTXN\nUNH\nUNP\nUPS\nUSB\nV\nVZ\nWBA\nWFC\nWMT\nXOM\n",
     "output_type": "stream"
    }
   ],
   "execution_count": null
  },
  {
   "cell_type": "code",
   "source": "",
   "metadata": {
    "tags": [],
    "cell_id": "00005-90fd8873-6173-4206-bcf8-9d73af5e2178",
    "deepnote_cell_type": "code"
   },
   "outputs": [],
   "execution_count": null
  },
  {
   "cell_type": "markdown",
   "source": "<a style='text-decoration:none;line-height:16px;display:flex;color:#5B5B62;padding:10px;justify-content:end;' href='https://deepnote.com?utm_source=created-in-deepnote-cell&projectId=80cc924b-f00e-4408-bf29-ac16ba2efaff' target=\"_blank\">\n<img alt='Created in deepnote.com' style='display:inline;max-height:16px;margin:0px;margin-right:7.5px;' src='data:image/svg+xml;base64,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' > </img>\nCreated in <span style='font-weight:600;margin-left:4px;'>Deepnote</span></a>",
   "metadata": {
    "tags": [],
    "created_in_deepnote_cell": true,
    "deepnote_cell_type": "markdown"
   }
  }
 ],
 "nbformat": 4,
 "nbformat_minor": 2,
 "metadata": {
  "orig_nbformat": 2,
  "deepnote": {
   "is_reactive": false
  },
  "deepnote_notebook_id": "fa64940f-a7ad-4455-adcd-ceeeffb1e39b",
  "deepnote_execution_queue": []
 }
}